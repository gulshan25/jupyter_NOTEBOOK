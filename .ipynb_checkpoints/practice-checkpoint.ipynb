{
 "cells": [
  {
   "cell_type": "code",
   "execution_count": null,
   "id": "5006a95a",
   "metadata": {},
   "outputs": [],
   "source": [
    "'''\n",
    "relational operator \n",
    "--------------------\n",
    "greater than          >\n",
    "greater than or equal >=\n",
    "less than             <\n",
    "less than or equal    <=\n",
    "equal                 ==\n",
    "not equal             !=\n",
    "\n",
    "logical operator\n",
    "-----------------\n",
    "AND --------------and\n",
    "OR----------------or\n",
    "NOT---------------not\n",
    "\n",
    "IF - ELSE statement\n",
    "--------------\n",
    "if condition :\n",
    "    statement true \n",
    "else : \n",
    "    statement false\n",
    "\n",
    "\n",
    "'''"
   ]
  },
  {
   "cell_type": "code",
   "execution_count": 1,
   "id": "3be2cb44",
   "metadata": {},
   "outputs": [],
   "source": [
    "msg = 'Have a good day'"
   ]
  },
  {
   "cell_type": "code",
   "execution_count": 5,
   "id": "0d19372d",
   "metadata": {},
   "outputs": [
    {
     "name": "stdout",
     "output_type": "stream",
     "text": [
      "originaltext: Have a good day\n"
     ]
    }
   ],
   "source": [
    "print('originaltext: ' +msg)"
   ]
  },
  {
   "cell_type": "code",
   "execution_count": 9,
   "id": "8a46d10b",
   "metadata": {},
   "outputs": [
    {
     "name": "stdout",
     "output_type": "stream",
     "text": [
      "uppercase: HAVE A GOOD DAY\n"
     ]
    }
   ],
   "source": [
    "print('uppercase: ' +msg.upper())"
   ]
  },
  {
   "cell_type": "code",
   "execution_count": 8,
   "id": "1d5ae93b",
   "metadata": {},
   "outputs": [
    {
     "name": "stdout",
     "output_type": "stream",
     "text": [
      "lowercase: have a good day\n"
     ]
    }
   ],
   "source": [
    "print('lowercase: ' +msg.lower())"
   ]
  },
  {
   "cell_type": "code",
   "execution_count": 10,
   "id": "3379044c",
   "metadata": {},
   "outputs": [
    {
     "name": "stdout",
     "output_type": "stream",
     "text": [
      "capitalize: Have a good day\n"
     ]
    }
   ],
   "source": [
    "print('capitalize: ' +msg.capitalize())"
   ]
  },
  {
   "cell_type": "code",
   "execution_count": 11,
   "id": "c45ef8c8",
   "metadata": {},
   "outputs": [
    {
     "name": "stdout",
     "output_type": "stream",
     "text": [
      "title: Have A Good Day\n"
     ]
    }
   ],
   "source": [
    "print('title: ' +msg.title())"
   ]
  },
  {
   "cell_type": "code",
   "execution_count": 13,
   "id": "1327acd3",
   "metadata": {},
   "outputs": [
    {
     "name": "stdout",
     "output_type": "stream",
     "text": [
      "swapcase: hAVE A GOOD DAY\n"
     ]
    }
   ],
   "source": [
    "print('swapcase: ' +msg.swapcase())"
   ]
  },
  {
   "cell_type": "code",
   "execution_count": 14,
   "id": "3d591166",
   "metadata": {},
   "outputs": [
    {
     "name": "stdout",
     "output_type": "stream",
     "text": [
      "center: *****************Have a good day******************\n"
     ]
    }
   ],
   "source": [
    "print('center: ' +msg.center(50,'*'))"
   ]
  },
  {
   "cell_type": "code",
   "execution_count": 15,
   "id": "3c44e33b",
   "metadata": {},
   "outputs": [
    {
     "name": "stdout",
     "output_type": "stream",
     "text": [
      "center:                  Have a good day                  \n"
     ]
    }
   ],
   "source": [
    "print('center: ' +msg.center(50))"
   ]
  },
  {
   "cell_type": "code",
   "execution_count": 16,
   "id": "4f5cef6d",
   "metadata": {},
   "outputs": [
    {
     "name": "stdout",
     "output_type": "stream",
     "text": [
      "replace: Have a nice day\n"
     ]
    }
   ],
   "source": [
    "print('replace: ' +msg.replace('good','nice'))"
   ]
  },
  {
   "cell_type": "code",
   "execution_count": 20,
   "id": "926512a2",
   "metadata": {},
   "outputs": [
    {
     "name": "stdout",
     "output_type": "stream",
     "text": [
      "find: 7\n"
     ]
    }
   ],
   "source": [
    "print('find: ' +str (msg.find('g')))"
   ]
  },
  {
   "cell_type": "code",
   "execution_count": 21,
   "id": "bb937e26",
   "metadata": {},
   "outputs": [
    {
     "name": "stdout",
     "output_type": "stream",
     "text": [
      "count: 3\n"
     ]
    }
   ],
   "source": [
    "print('count: ' +str (msg.count('a')))"
   ]
  },
  {
   "cell_type": "code",
   "execution_count": 22,
   "id": "363cb333",
   "metadata": {},
   "outputs": [
    {
     "name": "stdout",
     "output_type": "stream",
     "text": [
      "index: 1\n"
     ]
    }
   ],
   "source": [
    "print('index: ' +str (msg.index('a')))"
   ]
  },
  {
   "cell_type": "code",
   "execution_count": 23,
   "id": "00599fae",
   "metadata": {},
   "outputs": [
    {
     "name": "stdout",
     "output_type": "stream",
     "text": [
      "split: ['Have', 'a', 'good', 'day']\n"
     ]
    }
   ],
   "source": [
    "print('split: ' +str (msg.split()))"
   ]
  },
  {
   "cell_type": "code",
   "execution_count": 25,
   "id": "e8d102b4",
   "metadata": {},
   "outputs": [
    {
     "name": "stdout",
     "output_type": "stream",
     "text": [
      "startswith: True\n"
     ]
    }
   ],
   "source": [
    "print('startswith: ' +str (msg.startswith('H')))"
   ]
  },
  {
   "cell_type": "code",
   "execution_count": 26,
   "id": "ff89ae16",
   "metadata": {},
   "outputs": [
    {
     "name": "stdout",
     "output_type": "stream",
     "text": [
      "endswith: False\n"
     ]
    }
   ],
   "source": [
    "print('endswith: ' +str (msg.endswith('H')))"
   ]
  },
  {
   "cell_type": "code",
   "execution_count": 30,
   "id": "32cd280a",
   "metadata": {},
   "outputs": [
    {
     "name": "stdout",
     "output_type": "stream",
     "text": [
      "Enter UserName: arman\n",
      "sorry invalid user!\n"
     ]
    }
   ],
   "source": [
    "username= input ('Enter UserName: ')\n",
    "password= '123'\n",
    "\n",
    "if username.upper() == 'arman'.upper():\n",
    "    print('welcome')\n",
    "else:\n",
    "    print('sorry invalid user!')"
   ]
  },
  {
   "cell_type": "code",
   "execution_count": null,
   "id": "132a521b",
   "metadata": {},
   "outputs": [],
   "source": [
    "username = input ('Enter username: ')\n",
    "password = '123'\n",
    "\n",
    "if username.upper() == 'gulshan'.upper():\n",
    "    print('ok')\n",
    "else:\n",
    "    print('no')"
   ]
  },
  {
   "cell_type": "code",
   "execution_count": null,
   "id": "fa89e08a",
   "metadata": {},
   "outputs": [],
   "source": []
  }
 ],
 "metadata": {
  "kernelspec": {
   "display_name": "Python 3 (ipykernel)",
   "language": "python",
   "name": "python3"
  },
  "language_info": {
   "codemirror_mode": {
    "name": "ipython",
    "version": 3
   },
   "file_extension": ".py",
   "mimetype": "text/x-python",
   "name": "python",
   "nbconvert_exporter": "python",
   "pygments_lexer": "ipython3",
   "version": "3.9.5"
  }
 },
 "nbformat": 4,
 "nbformat_minor": 5
}
