{
 "cells": [
  {
   "cell_type": "code",
   "execution_count": 4,
   "id": "6271c31b",
   "metadata": {},
   "outputs": [
    {
     "name": "stdout",
     "output_type": "stream",
     "text": [
      "Enter your First Name:rahman\n",
      "Enter your Last Name:rahman\n",
      "rahman rahman\n"
     ]
    }
   ],
   "source": [
    "f = input('Enter your First Name:')\n",
    "l = input('Enter your Last Name:')\n",
    "print(f'{f} {l}')"
   ]
  },
  {
   "cell_type": "code",
   "execution_count": 7,
   "id": "76bdc986",
   "metadata": {},
   "outputs": [
    {
     "name": "stdout",
     "output_type": "stream",
     "text": [
      "Enter your First Name:gulshan\n",
      "Enter your Last Name:rahman\n",
      "gulshan rahman\n",
      "rahman rahman\n"
     ]
    }
   ],
   "source": [
    "first_Name = input('Enter your First Name:')\n",
    "last_Name = input('Enter your Last Name:')\n",
    "print(f'{first_Name} {last_Name}')\n",
    "print(f+' '+l)\n"
   ]
  },
  {
   "cell_type": "code",
   "execution_count": null,
   "id": "b6804bbe",
   "metadata": {},
   "outputs": [],
   "source": []
  }
 ],
 "metadata": {
  "kernelspec": {
   "display_name": "Python 3 (ipykernel)",
   "language": "python",
   "name": "python3"
  },
  "language_info": {
   "codemirror_mode": {
    "name": "ipython",
    "version": 3
   },
   "file_extension": ".py",
   "mimetype": "text/x-python",
   "name": "python",
   "nbconvert_exporter": "python",
   "pygments_lexer": "ipython3",
   "version": "3.9.5"
  }
 },
 "nbformat": 4,
 "nbformat_minor": 5
}
