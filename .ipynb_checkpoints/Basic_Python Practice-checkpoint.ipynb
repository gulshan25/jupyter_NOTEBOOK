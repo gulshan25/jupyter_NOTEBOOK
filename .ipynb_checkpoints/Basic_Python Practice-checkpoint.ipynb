{
 "cells": [
  {
   "cell_type": "code",
   "execution_count": 17,
   "id": "902d127d",
   "metadata": {},
   "outputs": [
    {
     "name": "stdout",
     "output_type": "stream",
     "text": [
      "Hello, World!\n"
     ]
    }
   ],
   "source": [
    "# Lesson 01\n",
    "# Variable\n",
    "\n",
    "print('Hello, World!')"
   ]
  },
  {
   "cell_type": "code",
   "execution_count": 5,
   "id": "785be449",
   "metadata": {},
   "outputs": [
    {
     "name": "stdout",
     "output_type": "stream",
     "text": [
      "Gulshan Rahman\n",
      "27\n",
      "1000.0\n"
     ]
    }
   ],
   "source": [
    "name = 'Gulshan Rahman'\n",
    "age = 27\n",
    "salary = 1000.00\n",
    "print(name)\n",
    "print(age)\n",
    "print(salary)"
   ]
  },
  {
   "cell_type": "code",
   "execution_count": null,
   "id": "405654f0",
   "metadata": {},
   "outputs": [],
   "source": [
    "# display variable datatype"
   ]
  },
  {
   "cell_type": "code",
   "execution_count": 6,
   "id": "5d09cf67",
   "metadata": {},
   "outputs": [
    {
     "name": "stdout",
     "output_type": "stream",
     "text": [
      "<class 'str'>\n"
     ]
    }
   ],
   "source": [
    "print(type(name))"
   ]
  },
  {
   "cell_type": "code",
   "execution_count": 7,
   "id": "5d9aea15",
   "metadata": {},
   "outputs": [
    {
     "name": "stdout",
     "output_type": "stream",
     "text": [
      "<class 'int'>\n"
     ]
    }
   ],
   "source": [
    "print(type(age))"
   ]
  },
  {
   "cell_type": "code",
   "execution_count": 8,
   "id": "adb185ae",
   "metadata": {},
   "outputs": [
    {
     "name": "stdout",
     "output_type": "stream",
     "text": [
      "<class 'float'>\n"
     ]
    }
   ],
   "source": [
    "print(type(salary))"
   ]
  },
  {
   "cell_type": "code",
   "execution_count": 9,
   "id": "aa334243",
   "metadata": {},
   "outputs": [
    {
     "name": "stdout",
     "output_type": "stream",
     "text": [
      "Gulshan Rahman 27 1000.0\n"
     ]
    }
   ],
   "source": [
    "print(name,age,salary)"
   ]
  },
  {
   "cell_type": "code",
   "execution_count": 13,
   "id": "9fef0da7",
   "metadata": {},
   "outputs": [
    {
     "name": "stdout",
     "output_type": "stream",
     "text": [
      "Name:Gulshan Rahman\tAge:27\tSalary:1000.0\n"
     ]
    }
   ],
   "source": [
    "print('Name:'+name+'\\tAge:'+str (age)+'\\tSalary:'+str (salary))"
   ]
  },
  {
   "cell_type": "code",
   "execution_count": 12,
   "id": "204f7af8",
   "metadata": {},
   "outputs": [
    {
     "name": "stdout",
     "output_type": "stream",
     "text": [
      "Name:Gulshan Rahman\n",
      "Age:27\n",
      "Salary:1000.0\n"
     ]
    }
   ],
   "source": [
    "print('Name:'+name+'\\nAge:'+str (age)+'\\nSalary:'+str (salary))"
   ]
  },
  {
   "cell_type": "code",
   "execution_count": 14,
   "id": "a0ffac1d",
   "metadata": {},
   "outputs": [
    {
     "name": "stdout",
     "output_type": "stream",
     "text": [
      "Name:Gulshan Rahman \n",
      "Age:27 \n",
      "Salary:1000.0\n"
     ]
    }
   ],
   "source": [
    "print(f'Name:{name} \\nAge:{age} \\nSalary:{salary}')"
   ]
  },
  {
   "cell_type": "code",
   "execution_count": 15,
   "id": "e37a8c4e",
   "metadata": {},
   "outputs": [
    {
     "name": "stdout",
     "output_type": "stream",
     "text": [
      "Name:Gulshan Rahman\n"
     ]
    }
   ],
   "source": [
    "print(f'Name:{name}')"
   ]
  },
  {
   "cell_type": "code",
   "execution_count": 19,
   "id": "78ce61c1",
   "metadata": {},
   "outputs": [
    {
     "name": "stdout",
     "output_type": "stream",
     "text": [
      "Name:Gulshan Rahman \n",
      "Age:27 \n",
      "Salary:1000.0\n"
     ]
    }
   ],
   "source": [
    "print('Name:{0} \\nAge:{1} \\nSalary:{2}'.format(name,age,salary))"
   ]
  },
  {
   "cell_type": "code",
   "execution_count": 20,
   "id": "685b9832",
   "metadata": {},
   "outputs": [
    {
     "name": "stdout",
     "output_type": "stream",
     "text": [
      "Name:Gulshan Rahman \n",
      "Age:27 \n",
      "Salary:1000.0\n"
     ]
    }
   ],
   "source": [
    "print('Name:{} \\nAge:{} \\nSalary:{}'.format(name,age,salary))"
   ]
  },
  {
   "cell_type": "code",
   "execution_count": 21,
   "id": "ee061422",
   "metadata": {},
   "outputs": [
    {
     "name": "stdout",
     "output_type": "stream",
     "text": [
      "Hello World!\n",
      "Gulshan Rahman\n"
     ]
    }
   ],
   "source": [
    "print('Hello World!')\n",
    "print(\"Gulshan Rahman\")"
   ]
  },
  {
   "cell_type": "code",
   "execution_count": 22,
   "id": "94f17327",
   "metadata": {},
   "outputs": [],
   "source": [
    "name = \"gulshan rahman\"\n",
    "age = 27\n",
    "status = 'unmarried'"
   ]
  },
  {
   "cell_type": "code",
   "execution_count": 26,
   "id": "b50bce8a",
   "metadata": {},
   "outputs": [
    {
     "name": "stdout",
     "output_type": "stream",
     "text": [
      "gulshan rahman\n",
      "27\n",
      "unmarried\n"
     ]
    },
    {
     "ename": "NameError",
     "evalue": "name 'isupper' is not defined",
     "output_type": "error",
     "traceback": [
      "\u001b[1;31m---------------------------------------------------------------------------\u001b[0m",
      "\u001b[1;31mNameError\u001b[0m                                 Traceback (most recent call last)",
      "\u001b[1;32m~\\AppData\\Local\\Temp/ipykernel_6332/406423174.py\u001b[0m in \u001b[0;36m<module>\u001b[1;34m\u001b[0m\n\u001b[0;32m      2\u001b[0m \u001b[0mprint\u001b[0m\u001b[1;33m(\u001b[0m\u001b[0mage\u001b[0m\u001b[1;33m)\u001b[0m\u001b[1;33m\u001b[0m\u001b[1;33m\u001b[0m\u001b[0m\n\u001b[0;32m      3\u001b[0m \u001b[0mprint\u001b[0m\u001b[1;33m(\u001b[0m\u001b[0mstatus\u001b[0m\u001b[1;33m)\u001b[0m\u001b[1;33m\u001b[0m\u001b[1;33m\u001b[0m\u001b[0m\n\u001b[1;32m----> 4\u001b[1;33m \u001b[0mprint\u001b[0m\u001b[1;33m(\u001b[0m\u001b[0misupper\u001b[0m\u001b[1;33m(\u001b[0m\u001b[0mname\u001b[0m\u001b[1;33m)\u001b[0m\u001b[1;33m)\u001b[0m\u001b[1;33m\u001b[0m\u001b[1;33m\u001b[0m\u001b[0m\n\u001b[0m",
      "\u001b[1;31mNameError\u001b[0m: name 'isupper' is not defined"
     ]
    }
   ],
   "source": [
    "print(name)\n",
    "print(age)\n",
    "print(status)\n"
   ]
  },
  {
   "cell_type": "code",
   "execution_count": 24,
   "id": "9180f3c2",
   "metadata": {},
   "outputs": [
    {
     "name": "stdout",
     "output_type": "stream",
     "text": [
      "['__add__', '__class__', '__contains__', '__delattr__', '__dir__', '__doc__', '__eq__', '__format__', '__ge__', '__getattribute__', '__getitem__', '__getnewargs__', '__gt__', '__hash__', '__init__', '__init_subclass__', '__iter__', '__le__', '__len__', '__lt__', '__mod__', '__mul__', '__ne__', '__new__', '__reduce__', '__reduce_ex__', '__repr__', '__rmod__', '__rmul__', '__setattr__', '__sizeof__', '__str__', '__subclasshook__', 'capitalize', 'casefold', 'center', 'count', 'encode', 'endswith', 'expandtabs', 'find', 'format', 'format_map', 'index', 'isalnum', 'isalpha', 'isascii', 'isdecimal', 'isdigit', 'isidentifier', 'islower', 'isnumeric', 'isprintable', 'isspace', 'istitle', 'isupper', 'join', 'ljust', 'lower', 'lstrip', 'maketrans', 'partition', 'removeprefix', 'removesuffix', 'replace', 'rfind', 'rindex', 'rjust', 'rpartition', 'rsplit', 'rstrip', 'split', 'splitlines', 'startswith', 'strip', 'swapcase', 'title', 'translate', 'upper', 'zfill']\n"
     ]
    }
   ],
   "source": [
    "print(dir(name))"
   ]
  },
  {
   "cell_type": "code",
   "execution_count": 27,
   "id": "9b8553dc",
   "metadata": {},
   "outputs": [
    {
     "name": "stdout",
     "output_type": "stream",
     "text": [
      "['__abs__', '__add__', '__and__', '__bool__', '__ceil__', '__class__', '__delattr__', '__dir__', '__divmod__', '__doc__', '__eq__', '__float__', '__floor__', '__floordiv__', '__format__', '__ge__', '__getattribute__', '__getnewargs__', '__gt__', '__hash__', '__index__', '__init__', '__init_subclass__', '__int__', '__invert__', '__le__', '__lshift__', '__lt__', '__mod__', '__mul__', '__ne__', '__neg__', '__new__', '__or__', '__pos__', '__pow__', '__radd__', '__rand__', '__rdivmod__', '__reduce__', '__reduce_ex__', '__repr__', '__rfloordiv__', '__rlshift__', '__rmod__', '__rmul__', '__ror__', '__round__', '__rpow__', '__rrshift__', '__rshift__', '__rsub__', '__rtruediv__', '__rxor__', '__setattr__', '__sizeof__', '__str__', '__sub__', '__subclasshook__', '__truediv__', '__trunc__', '__xor__', 'as_integer_ratio', 'bit_length', 'conjugate', 'denominator', 'from_bytes', 'imag', 'numerator', 'real', 'to_bytes']\n"
     ]
    }
   ],
   "source": [
    "print(dir(age))"
   ]
  },
  {
   "cell_type": "code",
   "execution_count": 28,
   "id": "2e2ae0ff",
   "metadata": {},
   "outputs": [
    {
     "name": "stdout",
     "output_type": "stream",
     "text": [
      "['__add__', '__class__', '__contains__', '__delattr__', '__dir__', '__doc__', '__eq__', '__format__', '__ge__', '__getattribute__', '__getitem__', '__getnewargs__', '__gt__', '__hash__', '__init__', '__init_subclass__', '__iter__', '__le__', '__len__', '__lt__', '__mod__', '__mul__', '__ne__', '__new__', '__reduce__', '__reduce_ex__', '__repr__', '__rmod__', '__rmul__', '__setattr__', '__sizeof__', '__str__', '__subclasshook__', 'capitalize', 'casefold', 'center', 'count', 'encode', 'endswith', 'expandtabs', 'find', 'format', 'format_map', 'index', 'isalnum', 'isalpha', 'isascii', 'isdecimal', 'isdigit', 'isidentifier', 'islower', 'isnumeric', 'isprintable', 'isspace', 'istitle', 'isupper', 'join', 'ljust', 'lower', 'lstrip', 'maketrans', 'partition', 'removeprefix', 'removesuffix', 'replace', 'rfind', 'rindex', 'rjust', 'rpartition', 'rsplit', 'rstrip', 'split', 'splitlines', 'startswith', 'strip', 'swapcase', 'title', 'translate', 'upper', 'zfill']\n"
     ]
    }
   ],
   "source": [
    "print(dir(status))"
   ]
  },
  {
   "cell_type": "code",
   "execution_count": 29,
   "id": "e743e644",
   "metadata": {},
   "outputs": [
    {
     "name": "stdout",
     "output_type": "stream",
     "text": [
      "<class 'str'>\n",
      "<class 'int'>\n",
      "<class 'str'>\n"
     ]
    }
   ],
   "source": [
    "print(type(name))\n",
    "print(type(age))\n",
    "print(type(status))"
   ]
  },
  {
   "cell_type": "code",
   "execution_count": 34,
   "id": "c8ea601e",
   "metadata": {},
   "outputs": [
    {
     "name": "stdout",
     "output_type": "stream",
     "text": [
      "Name:gulshan rahman \n",
      "Age:27 \n",
      "Status:unmarried\n",
      "Name:gulshan rahman \tAge:27 \tStatus:unmarried\n"
     ]
    }
   ],
   "source": [
    "print(f'Name:{name} \\nAge:{age} \\nStatus:{status}')\n",
    "print(f'Name:{name} \\tAge:{age} \\tStatus:{status}')"
   ]
  },
  {
   "cell_type": "code",
   "execution_count": 38,
   "id": "5022dc99",
   "metadata": {},
   "outputs": [
    {
     "name": "stdout",
     "output_type": "stream",
     "text": [
      "Name:gulshan rahman \tAge:27 \tStatus:unmarried\n",
      "Name:gulshan rahman \tAge:27 \tStatus:unmarried\n",
      "Name:gulshan rahman \n",
      "Age:27 \n",
      "Status:unmarried\n",
      "Name:gulshan rahman \n",
      "Age:27 \n",
      "Status:unmarried\n"
     ]
    }
   ],
   "source": [
    "print('Name:{} \\tAge:{} \\tStatus:{}'.format(name,age,status))\n",
    "print('Name:{0} \\tAge:{1} \\tStatus:{2}'.format(name,age,status))\n",
    "print('Name:{} \\nAge:{} \\nStatus:{}'.format(name,age,status))\n",
    "print('Name:{0} \\nAge:{1} \\nStatus:{2}'.format(name,age,status))"
   ]
  },
  {
   "cell_type": "code",
   "execution_count": 47,
   "id": "49428f04",
   "metadata": {},
   "outputs": [
    {
     "name": "stdout",
     "output_type": "stream",
     "text": [
      "Name:gulshan rahman\n",
      "Status:unmarried\n",
      "Age:27\n",
      "Name:gulshan rahman\tStatus:unmarried\tAge:27\n"
     ]
    }
   ],
   "source": [
    "print('Name:'+name+'\\nStatus:'+status+'\\nAge:'+str (age))\n",
    "print('Name:'+name+'\\tStatus:'+status+'\\tAge:'+str (age))"
   ]
  },
  {
   "cell_type": "code",
   "execution_count": 50,
   "id": "ae602ec0",
   "metadata": {},
   "outputs": [
    {
     "name": "stdout",
     "output_type": "stream",
     "text": [
      "Name:gulshan rahman \n",
      "Age:27 \n",
      "Status:unmarried\n",
      "Name:gulshan rahman \tAge:27 \tStatus:unmarried\n"
     ]
    }
   ],
   "source": [
    "print('Name:%s \\nAge:%s \\nStatus:%s'%(name,age,status))\n",
    "print('Name:%s \\tAge:%s \\tStatus:%s'%(name,age,status))\n"
   ]
  },
  {
   "cell_type": "code",
   "execution_count": 51,
   "id": "767e25c6",
   "metadata": {},
   "outputs": [
    {
     "name": "stdout",
     "output_type": "stream",
     "text": [
      "Name:gulshan rahman \n",
      "Age:27 \n",
      "Status:unmarried\n"
     ]
    }
   ],
   "source": [
    "print('Name:%s \\nAge:%s \\nStatus:%s'%(name,age,status))"
   ]
  },
  {
   "cell_type": "code",
   "execution_count": 52,
   "id": "2dbcd3e5",
   "metadata": {},
   "outputs": [
    {
     "name": "stdout",
     "output_type": "stream",
     "text": [
      "Name:gulshan rahman \n",
      "Age:27 \n",
      "Status:unmarried\n"
     ]
    }
   ],
   "source": [
    "print(f'Name:{name} \\nAge:{age} \\nStatus:{status}')"
   ]
  },
  {
   "cell_type": "code",
   "execution_count": 53,
   "id": "35bc8ba6",
   "metadata": {},
   "outputs": [
    {
     "name": "stdout",
     "output_type": "stream",
     "text": [
      "Name:gulshan rahman \n",
      "Age:27 \n",
      "Status:unmarried\n",
      "Name:gulshan rahman \n",
      "Age:27 \n",
      "Status:unmarried\n"
     ]
    }
   ],
   "source": [
    "print('Name:{} \\nAge:{} \\nStatus:{}'.format(name,age,status))\n",
    "print('Name:{0} \\nAge:{1} \\nStatus:{2}'.format(name,age,status))"
   ]
  },
  {
   "cell_type": "code",
   "execution_count": 54,
   "id": "74ac5fbf",
   "metadata": {},
   "outputs": [
    {
     "name": "stdout",
     "output_type": "stream",
     "text": [
      "Name:gulshan rahman \n",
      "Age:27 \n",
      "Status:unmarried\n"
     ]
    }
   ],
   "source": [
    "print('Name:%s \\nAge:%s \\nStatus:%s'%(name,age,status))"
   ]
  },
  {
   "cell_type": "code",
   "execution_count": 55,
   "id": "e843515f",
   "metadata": {},
   "outputs": [
    {
     "name": "stdout",
     "output_type": "stream",
     "text": [
      "Name:gulshan rahman\tStatus:unmarried\n",
      "Age:27\n"
     ]
    }
   ],
   "source": [
    "print('Name:'+name+'\\tStatus:'+status+'\\nAge:'+str (age))"
   ]
  },
  {
   "cell_type": "code",
   "execution_count": null,
   "id": "4022695d",
   "metadata": {},
   "outputs": [],
   "source": [
    "x = int(input(\"Enter x:\"))\n",
    "y = int(input(\"Enter y:\"))\n"
   ]
  },
  {
   "cell_type": "code",
   "execution_count": null,
   "id": "409e2f40",
   "metadata": {},
   "outputs": [],
   "source": []
  },
  {
   "cell_type": "code",
   "execution_count": null,
   "id": "4d8ca319",
   "metadata": {},
   "outputs": [],
   "source": []
  },
  {
   "cell_type": "code",
   "execution_count": null,
   "id": "a3a48649",
   "metadata": {},
   "outputs": [],
   "source": []
  }
 ],
 "metadata": {
  "kernelspec": {
   "display_name": "Python 3 (ipykernel)",
   "language": "python",
   "name": "python3"
  },
  "language_info": {
   "codemirror_mode": {
    "name": "ipython",
    "version": 3
   },
   "file_extension": ".py",
   "mimetype": "text/x-python",
   "name": "python",
   "nbconvert_exporter": "python",
   "pygments_lexer": "ipython3",
   "version": "3.9.5"
  }
 },
 "nbformat": 4,
 "nbformat_minor": 5
}
