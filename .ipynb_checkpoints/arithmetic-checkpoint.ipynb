{
 "cells": [
  {
   "cell_type": "code",
   "execution_count": 63,
   "id": "e2fb2045",
   "metadata": {},
   "outputs": [
    {
     "data": {
      "text/plain": [
       "'\\nArithmetic operator\\n---------------------\\n+   addition \\n-   substraction\\n*   multiplication\\n/   division\\n%   modulus/reminder\\n**  exponent\\n//  integer division\\n\\n'"
      ]
     },
     "execution_count": 63,
     "metadata": {},
     "output_type": "execute_result"
    }
   ],
   "source": [
    "'''\n",
    "Arithmetic operator\n",
    "---------------------\n",
    "+   addition \n",
    "-   substraction\n",
    "*   multiplication\n",
    "/   division\n",
    "%   modulus/reminder\n",
    "**  exponent\n",
    "//  integer division\n",
    "\n",
    "'''"
   ]
  },
  {
   "cell_type": "code",
   "execution_count": 3,
   "id": "6442e6d8",
   "metadata": {},
   "outputs": [
    {
     "name": "stdout",
     "output_type": "stream",
     "text": [
      "Enter value for x:10\n",
      "Enter value for y:10\n",
      "20.0\n"
     ]
    }
   ],
   "source": [
    "x = float(input('Enter value for x:'))\n",
    "y = float(input('Enter value for y:'))\n",
    "print(x+y)"
   ]
  },
  {
   "cell_type": "code",
   "execution_count": 15,
   "id": "c59f6c74",
   "metadata": {},
   "outputs": [
    {
     "name": "stdout",
     "output_type": "stream",
     "text": [
      "The addition of 10+10=20\n",
      "The addition of 10-10=0\n",
      "The addition of 10*10=100\n"
     ]
    }
   ],
   "source": [
    "print('The addition of %s+%s=%s'%(x,y,x+y))\n",
    "print('The addition of %s-%s=%s'%(x,y,x-y))\n",
    "print('The addition of %s*%s=%s'%(x,y,x*y))"
   ]
  },
  {
   "cell_type": "code",
   "execution_count": 7,
   "id": "c85cf962",
   "metadata": {},
   "outputs": [
    {
     "name": "stdout",
     "output_type": "stream",
     "text": [
      "The addition of 10.0+10.0=20.0\n"
     ]
    }
   ],
   "source": [
    "print('The addition of %s+%s=%s'%(x,y,x+y))"
   ]
  },
  {
   "cell_type": "code",
   "execution_count": 10,
   "id": "4d203137",
   "metadata": {},
   "outputs": [
    {
     "name": "stdout",
     "output_type": "stream",
     "text": [
      "Enter value for x:4\n",
      "Enter value for y:4\n"
     ]
    },
    {
     "ename": "TypeError",
     "evalue": "not enough arguments for format string",
     "output_type": "error",
     "traceback": [
      "\u001b[1;31m---------------------------------------------------------------------------\u001b[0m",
      "\u001b[1;31mTypeError\u001b[0m                                 Traceback (most recent call last)",
      "\u001b[1;32m~\\AppData\\Local\\Temp/ipykernel_12252/2420682864.py\u001b[0m in \u001b[0;36m<module>\u001b[1;34m\u001b[0m\n\u001b[0;32m      1\u001b[0m \u001b[0mx\u001b[0m \u001b[1;33m=\u001b[0m \u001b[0mint\u001b[0m\u001b[1;33m(\u001b[0m\u001b[0minput\u001b[0m\u001b[1;33m(\u001b[0m\u001b[1;34m'Enter value for x:'\u001b[0m\u001b[1;33m)\u001b[0m\u001b[1;33m)\u001b[0m\u001b[1;33m\u001b[0m\u001b[1;33m\u001b[0m\u001b[0m\n\u001b[0;32m      2\u001b[0m \u001b[0my\u001b[0m \u001b[1;33m=\u001b[0m \u001b[0mint\u001b[0m\u001b[1;33m(\u001b[0m\u001b[0minput\u001b[0m\u001b[1;33m(\u001b[0m\u001b[1;34m'Enter value for y:'\u001b[0m\u001b[1;33m)\u001b[0m\u001b[1;33m)\u001b[0m\u001b[1;33m\u001b[0m\u001b[1;33m\u001b[0m\u001b[0m\n\u001b[1;32m----> 3\u001b[1;33m \u001b[0mprint\u001b[0m\u001b[1;33m(\u001b[0m\u001b[1;34m'The addition of %s+%s=%s'\u001b[0m\u001b[1;33m%\u001b[0m\u001b[1;33m(\u001b[0m\u001b[0mx\u001b[0m\u001b[1;33m+\u001b[0m\u001b[0my\u001b[0m\u001b[1;33m)\u001b[0m\u001b[1;33m)\u001b[0m\u001b[1;33m\u001b[0m\u001b[1;33m\u001b[0m\u001b[0m\n\u001b[0m\u001b[0;32m      4\u001b[0m \u001b[0mprint\u001b[0m\u001b[1;33m(\u001b[0m\u001b[1;34m'The substraction of %s-%s=%s'\u001b[0m\u001b[1;33m%\u001b[0m\u001b[1;33m(\u001b[0m\u001b[0mx\u001b[0m\u001b[1;33m-\u001b[0m\u001b[0my\u001b[0m\u001b[1;33m)\u001b[0m\u001b[1;33m)\u001b[0m\u001b[1;33m\u001b[0m\u001b[1;33m\u001b[0m\u001b[0m\n",
      "\u001b[1;31mTypeError\u001b[0m: not enough arguments for format string"
     ]
    }
   ],
   "source": [
    "x = int(input('Enter value for x:'))\n",
    "y = int(input('Enter value for y:'))\n",
    "print('The addition of %s+%s=%s'%(x+y))\n",
    "print('The substraction of %s-%s=%s'%(x-y))"
   ]
  },
  {
   "cell_type": "code",
   "execution_count": 17,
   "id": "4774f86a",
   "metadata": {},
   "outputs": [
    {
     "name": "stdout",
     "output_type": "stream",
     "text": [
      "Enter value for x:10\n",
      "Enter value for y:10\n",
      "The addition of 10+10=20\n",
      "The substraction of 10-10=0\n",
      "The multiplication of 10*10=100\n"
     ]
    },
    {
     "ename": "TypeError",
     "evalue": "not all arguments converted during string formatting",
     "output_type": "error",
     "traceback": [
      "\u001b[1;31m---------------------------------------------------------------------------\u001b[0m",
      "\u001b[1;31mTypeError\u001b[0m                                 Traceback (most recent call last)",
      "\u001b[1;32m~\\AppData\\Local\\Temp/ipykernel_12252/3449094567.py\u001b[0m in \u001b[0;36m<module>\u001b[1;34m\u001b[0m\n\u001b[0;32m      4\u001b[0m \u001b[0mprint\u001b[0m\u001b[1;33m(\u001b[0m\u001b[1;34m'The substraction of %s-%s=%s'\u001b[0m\u001b[1;33m%\u001b[0m\u001b[1;33m(\u001b[0m\u001b[0mx\u001b[0m\u001b[1;33m,\u001b[0m\u001b[0my\u001b[0m\u001b[1;33m,\u001b[0m\u001b[0mx\u001b[0m\u001b[1;33m-\u001b[0m\u001b[0my\u001b[0m\u001b[1;33m)\u001b[0m\u001b[1;33m)\u001b[0m\u001b[1;33m\u001b[0m\u001b[1;33m\u001b[0m\u001b[0m\n\u001b[0;32m      5\u001b[0m \u001b[0mprint\u001b[0m\u001b[1;33m(\u001b[0m\u001b[1;34m'The multiplication of %s*%s=%s'\u001b[0m\u001b[1;33m%\u001b[0m\u001b[1;33m(\u001b[0m\u001b[0mx\u001b[0m\u001b[1;33m,\u001b[0m\u001b[0my\u001b[0m\u001b[1;33m,\u001b[0m\u001b[0mx\u001b[0m\u001b[1;33m*\u001b[0m\u001b[0my\u001b[0m\u001b[1;33m)\u001b[0m\u001b[1;33m)\u001b[0m\u001b[1;33m\u001b[0m\u001b[1;33m\u001b[0m\u001b[0m\n\u001b[1;32m----> 6\u001b[1;33m \u001b[0mprint\u001b[0m\u001b[1;33m(\u001b[0m\u001b[1;34m'The addition of %s%%s=%s'\u001b[0m\u001b[1;33m%\u001b[0m\u001b[1;33m(\u001b[0m\u001b[0mx\u001b[0m\u001b[1;33m,\u001b[0m\u001b[0my\u001b[0m\u001b[1;33m,\u001b[0m\u001b[0mx\u001b[0m\u001b[1;33m%\u001b[0m\u001b[0my\u001b[0m\u001b[1;33m)\u001b[0m\u001b[1;33m)\u001b[0m\u001b[1;33m\u001b[0m\u001b[1;33m\u001b[0m\u001b[0m\n\u001b[0m\u001b[0;32m      7\u001b[0m \u001b[0mprint\u001b[0m\u001b[1;33m(\u001b[0m\u001b[1;34m'The substraction of %s**%s=%s'\u001b[0m\u001b[1;33m%\u001b[0m\u001b[1;33m(\u001b[0m\u001b[0mx\u001b[0m\u001b[1;33m,\u001b[0m\u001b[0my\u001b[0m\u001b[1;33m,\u001b[0m\u001b[0mx\u001b[0m\u001b[1;33m**\u001b[0m\u001b[0my\u001b[0m\u001b[1;33m)\u001b[0m\u001b[1;33m)\u001b[0m\u001b[1;33m\u001b[0m\u001b[1;33m\u001b[0m\u001b[0m\n\u001b[0;32m      8\u001b[0m \u001b[0mprint\u001b[0m\u001b[1;33m(\u001b[0m\u001b[1;34m'The multiplication of %s/%s=%s'\u001b[0m\u001b[1;33m%\u001b[0m\u001b[1;33m(\u001b[0m\u001b[0mx\u001b[0m\u001b[1;33m,\u001b[0m\u001b[0my\u001b[0m\u001b[1;33m,\u001b[0m\u001b[0mx\u001b[0m\u001b[1;33m/\u001b[0m\u001b[0my\u001b[0m\u001b[1;33m)\u001b[0m\u001b[1;33m)\u001b[0m\u001b[1;33m\u001b[0m\u001b[1;33m\u001b[0m\u001b[0m\n",
      "\u001b[1;31mTypeError\u001b[0m: not all arguments converted during string formatting"
     ]
    }
   ],
   "source": [
    "x = int(input('Enter value for x:'))\n",
    "y = int(input('Enter value for y:'))\n",
    "print('The addition of %s+%s=%s'%(x,y,x+y))\n",
    "print('The substraction of %s-%s=%s'%(x,y,x-y))\n",
    "print('The multiplication of %s*%s=%s'%(x,y,x*y))\n",
    "print('The addition of %s%%s=%s'%(x,y,x%y))\n",
    "print('The substraction of %s**%s=%s'%(x,y,x**y))\n",
    "print('The multiplication of %s/%s=%s'%(x,y,x/y))\n",
    "print('The multiplication of %s//%s=%s'%(x,y,x//y))\n",
    "                                        "
   ]
  },
  {
   "cell_type": "code",
   "execution_count": 22,
   "id": "c0283538",
   "metadata": {},
   "outputs": [
    {
     "name": "stdout",
     "output_type": "stream",
     "text": [
      "Enter value for x:30\n",
      "Enter value for y:30\n",
      "The addition of 30.0+30.0=60.0\n",
      "The substraction of 30.0-30.0=0.0\n",
      "The multiplication of 30.0*30.0=900.0\n",
      "The modulus/reminder of 30.0%30.0=0.0\n",
      "The exponent of 30.0**30.0=2.05891132094649e+44\n",
      "The division of 30.0/30.0=1.0\n",
      "The integer division of 30.0//30.0=1.0\n"
     ]
    }
   ],
   "source": [
    "x = float(input('Enter value for x:'))\n",
    "y = float(input('Enter value for y:'))\n",
    "print('The addition of %s+%s=%s'%(x,y,x+y))\n",
    "print('The substraction of %s-%s=%s'%(x,y,x-y))\n",
    "print('The multiplication of %s*%s=%s'%(x,y,x*y))\n",
    "print('The modulus/reminder of %s%%%s=%s'%(x,y,x%y))\n",
    "print('The exponent of %s**%s=%s'%(x,y,x**y))\n",
    "print('The division of %s/%s=%s'%(x,y,x/y))\n",
    "print('The integer division of %s//%s=%s'%(x,y,x//y))"
   ]
  },
  {
   "cell_type": "code",
   "execution_count": 43,
   "id": "f26d12ed",
   "metadata": {},
   "outputs": [
    {
     "name": "stdout",
     "output_type": "stream",
     "text": [
      "The addition of 20+20=40\n",
      "The substraction of 20-20=0\n",
      "The multiplication of 20*20=400\n",
      "The addition of 20%20=0\n",
      "The substraction of 20**20=104857600000000000000000000\n",
      "The multiplication of 20/20=1.0\n",
      "The multiplication of 20//20=1\n"
     ]
    }
   ],
   "source": [
    "x = 20\n",
    "y = 20\n",
    "print('The addition of %s+%s=%s'%(x,y,x+y))\n",
    "print('The substraction of %s-%s=%s'%(x,y,x-y))\n",
    "print('The multiplication of %s*%s=%s'%(x,y,x*y))\n",
    "print('The addition of %s%%%s=%s'%(x,y,x%y))\n",
    "print('The substraction of %s**%s=%s'%(x,y,x**y))\n",
    "print('The multiplication of %s/%s=%s'%(x,y,x/y))\n",
    "print('The multiplication of %s//%s=%s'%(x,y,x//y))"
   ]
  },
  {
   "cell_type": "code",
   "execution_count": 44,
   "id": "b83db35d",
   "metadata": {},
   "outputs": [
    {
     "name": "stdout",
     "output_type": "stream",
     "text": [
      "2\n",
      "4\n",
      "6\n",
      "8\n",
      "10\n"
     ]
    }
   ],
   "source": [
    "# even\n",
    "\n",
    "for number in range(1, 12):\n",
    "    if(number % 2 == 0):\n",
    "        print(number)"
   ]
  },
  {
   "cell_type": "code",
   "execution_count": 42,
   "id": "41b82d8a",
   "metadata": {},
   "outputs": [
    {
     "name": "stdout",
     "output_type": "stream",
     "text": [
      "1\t3\t5\t7\t9\t"
     ]
    }
   ],
   "source": [
    "# odd\n",
    "\n",
    "for number in range(1, 11):\n",
    "    if(number % 2 != 0):\n",
    "        print(number,end='\\t')"
   ]
  },
  {
   "cell_type": "code",
   "execution_count": 55,
   "id": "f5c9504e",
   "metadata": {},
   "outputs": [
    {
     "name": "stdout",
     "output_type": "stream",
     "text": [
      "1+2+3+4+5+6+7+8+9+10+\b = 10\n"
     ]
    }
   ],
   "source": [
    "for number in range(1, 11):\n",
    "    if(number + 2):\n",
    "        print(number,end='+')\n",
    "print('\\b =',number)"
   ]
  },
  {
   "cell_type": "code",
   "execution_count": 59,
   "id": "3cb77ddd",
   "metadata": {},
   "outputs": [
    {
     "name": "stdout",
     "output_type": "stream",
     "text": [
      "1+2+3+4+5+6+7+8+9+10+\b = 55\n"
     ]
    }
   ],
   "source": [
    "# homework 02\n",
    "\n",
    "number = 0\n",
    "for x in range(1,11):\n",
    "    number = number + x\n",
    "    print(x,end='+')\n",
    "print('\\b =',number)"
   ]
  },
  {
   "cell_type": "code",
   "execution_count": null,
   "id": "1dea3bed",
   "metadata": {},
   "outputs": [],
   "source": [
    "\"\"\"\n",
    "input from keyboard\n",
    "variable=input('prompt')\n",
    "\n",
    "\"\"\"\n",
    "your_name = input('Enter your name:')\n",
    "print(f'Hello,{your_name}')\n",
    "print('Hello,%s'%(your_name))\n",
    "print('hello,{0}'.format(your_name))\n",
    "print('hello,{}'.format(your_name))\n"
   ]
  },
  {
   "cell_type": "code",
   "execution_count": null,
   "id": "bb769e93",
   "metadata": {},
   "outputs": [],
   "source": [
    "x = str(input('Enter your First name:'))\n",
    "y = str(input('Enter your Last name:'))\n",
    "print(x + y)\n",
    "print(type(x))"
   ]
  },
  {
   "cell_type": "code",
   "execution_count": null,
   "id": "2b4606f6",
   "metadata": {},
   "outputs": [],
   "source": [
    "first_Name = input('Enter your First Name:')\n",
    "last_Name = input('Enter your Last Name:')\n",
    "print(f'{first_Name} {last_Name}')"
   ]
  },
  {
   "cell_type": "code",
   "execution_count": null,
   "id": "8ad2f360",
   "metadata": {},
   "outputs": [],
   "source": []
  },
  {
   "cell_type": "code",
   "execution_count": null,
   "id": "78eb9c22",
   "metadata": {},
   "outputs": [],
   "source": []
  },
  {
   "cell_type": "code",
   "execution_count": null,
   "id": "28d853a5",
   "metadata": {},
   "outputs": [],
   "source": []
  }
 ],
 "metadata": {
  "kernelspec": {
   "display_name": "Python 3 (ipykernel)",
   "language": "python",
   "name": "python3"
  },
  "language_info": {
   "codemirror_mode": {
    "name": "ipython",
    "version": 3
   },
   "file_extension": ".py",
   "mimetype": "text/x-python",
   "name": "python",
   "nbconvert_exporter": "python",
   "pygments_lexer": "ipython3",
   "version": "3.9.5"
  }
 },
 "nbformat": 4,
 "nbformat_minor": 5
}
